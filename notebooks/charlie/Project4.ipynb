{
 "cells": [
  {
   "cell_type": "code",
   "execution_count": 3,
   "metadata": {},
   "outputs": [],
   "source": [
    "import pandas as pd\n",
    "import numpy as np"
   ]
  },
  {
   "cell_type": "code",
   "execution_count": 4,
   "metadata": {},
   "outputs": [
    {
     "ename": "FileNotFoundError",
     "evalue": "[Errno 2] No such file or directory: 'complete.csv'",
     "output_type": "error",
     "traceback": [
      "\u001b[0;31m---------------------------------------------------------------------------\u001b[0m",
      "\u001b[0;31mFileNotFoundError\u001b[0m                         Traceback (most recent call last)",
      "\u001b[0;32m<ipython-input-4-8ef24fea3571>\u001b[0m in \u001b[0;36m<module>\u001b[0;34m\u001b[0m\n\u001b[0;32m----> 1\u001b[0;31m \u001b[0ma\u001b[0m \u001b[0;34m=\u001b[0m \u001b[0mpd\u001b[0m\u001b[0;34m.\u001b[0m\u001b[0mread_csv\u001b[0m\u001b[0;34m(\u001b[0m\u001b[0;34m'complete.csv'\u001b[0m\u001b[0;34m)\u001b[0m\u001b[0;34m\u001b[0m\u001b[0;34m\u001b[0m\u001b[0m\n\u001b[0m\u001b[1;32m      2\u001b[0m \u001b[0mb\u001b[0m \u001b[0;34m=\u001b[0m \u001b[0mpd\u001b[0m\u001b[0;34m.\u001b[0m\u001b[0mread_csv\u001b[0m\u001b[0;34m(\u001b[0m\u001b[0;34m'tracks 2.csv'\u001b[0m\u001b[0;34m)\u001b[0m\u001b[0;34m\u001b[0m\u001b[0;34m\u001b[0m\u001b[0m\n\u001b[1;32m      3\u001b[0m \u001b[0mdf2\u001b[0m \u001b[0;34m=\u001b[0m \u001b[0mpd\u001b[0m\u001b[0;34m.\u001b[0m\u001b[0mmerge\u001b[0m\u001b[0;34m(\u001b[0m\u001b[0ma\u001b[0m\u001b[0;34m,\u001b[0m \u001b[0mb\u001b[0m\u001b[0;34m,\u001b[0m \u001b[0mhow\u001b[0m\u001b[0;34m=\u001b[0m\u001b[0;34m'inner'\u001b[0m\u001b[0;34m,\u001b[0m \u001b[0mleft_on\u001b[0m\u001b[0;34m=\u001b[0m \u001b[0;34m'track_id'\u001b[0m\u001b[0;34m,\u001b[0m \u001b[0mright_on\u001b[0m\u001b[0;34m=\u001b[0m\u001b[0;34m'id'\u001b[0m\u001b[0;34m)\u001b[0m\u001b[0;34m\u001b[0m\u001b[0;34m\u001b[0m\u001b[0m\n",
      "\u001b[0;32m~/opt/anaconda3/envs/learn-env/lib/python3.8/site-packages/pandas/io/parsers.py\u001b[0m in \u001b[0;36mread_csv\u001b[0;34m(filepath_or_buffer, sep, delimiter, header, names, index_col, usecols, squeeze, prefix, mangle_dupe_cols, dtype, engine, converters, true_values, false_values, skipinitialspace, skiprows, skipfooter, nrows, na_values, keep_default_na, na_filter, verbose, skip_blank_lines, parse_dates, infer_datetime_format, keep_date_col, date_parser, dayfirst, cache_dates, iterator, chunksize, compression, thousands, decimal, lineterminator, quotechar, quoting, doublequote, escapechar, comment, encoding, dialect, error_bad_lines, warn_bad_lines, delim_whitespace, low_memory, memory_map, float_precision)\u001b[0m\n\u001b[1;32m    684\u001b[0m     )\n\u001b[1;32m    685\u001b[0m \u001b[0;34m\u001b[0m\u001b[0m\n\u001b[0;32m--> 686\u001b[0;31m     \u001b[0;32mreturn\u001b[0m \u001b[0m_read\u001b[0m\u001b[0;34m(\u001b[0m\u001b[0mfilepath_or_buffer\u001b[0m\u001b[0;34m,\u001b[0m \u001b[0mkwds\u001b[0m\u001b[0;34m)\u001b[0m\u001b[0;34m\u001b[0m\u001b[0;34m\u001b[0m\u001b[0m\n\u001b[0m\u001b[1;32m    687\u001b[0m \u001b[0;34m\u001b[0m\u001b[0m\n\u001b[1;32m    688\u001b[0m \u001b[0;34m\u001b[0m\u001b[0m\n",
      "\u001b[0;32m~/opt/anaconda3/envs/learn-env/lib/python3.8/site-packages/pandas/io/parsers.py\u001b[0m in \u001b[0;36m_read\u001b[0;34m(filepath_or_buffer, kwds)\u001b[0m\n\u001b[1;32m    450\u001b[0m \u001b[0;34m\u001b[0m\u001b[0m\n\u001b[1;32m    451\u001b[0m     \u001b[0;31m# Create the parser.\u001b[0m\u001b[0;34m\u001b[0m\u001b[0;34m\u001b[0m\u001b[0;34m\u001b[0m\u001b[0m\n\u001b[0;32m--> 452\u001b[0;31m     \u001b[0mparser\u001b[0m \u001b[0;34m=\u001b[0m \u001b[0mTextFileReader\u001b[0m\u001b[0;34m(\u001b[0m\u001b[0mfp_or_buf\u001b[0m\u001b[0;34m,\u001b[0m \u001b[0;34m**\u001b[0m\u001b[0mkwds\u001b[0m\u001b[0;34m)\u001b[0m\u001b[0;34m\u001b[0m\u001b[0;34m\u001b[0m\u001b[0m\n\u001b[0m\u001b[1;32m    453\u001b[0m \u001b[0;34m\u001b[0m\u001b[0m\n\u001b[1;32m    454\u001b[0m     \u001b[0;32mif\u001b[0m \u001b[0mchunksize\u001b[0m \u001b[0;32mor\u001b[0m \u001b[0miterator\u001b[0m\u001b[0;34m:\u001b[0m\u001b[0;34m\u001b[0m\u001b[0;34m\u001b[0m\u001b[0m\n",
      "\u001b[0;32m~/opt/anaconda3/envs/learn-env/lib/python3.8/site-packages/pandas/io/parsers.py\u001b[0m in \u001b[0;36m__init__\u001b[0;34m(self, f, engine, **kwds)\u001b[0m\n\u001b[1;32m    944\u001b[0m             \u001b[0mself\u001b[0m\u001b[0;34m.\u001b[0m\u001b[0moptions\u001b[0m\u001b[0;34m[\u001b[0m\u001b[0;34m\"has_index_names\"\u001b[0m\u001b[0;34m]\u001b[0m \u001b[0;34m=\u001b[0m \u001b[0mkwds\u001b[0m\u001b[0;34m[\u001b[0m\u001b[0;34m\"has_index_names\"\u001b[0m\u001b[0;34m]\u001b[0m\u001b[0;34m\u001b[0m\u001b[0;34m\u001b[0m\u001b[0m\n\u001b[1;32m    945\u001b[0m \u001b[0;34m\u001b[0m\u001b[0m\n\u001b[0;32m--> 946\u001b[0;31m         \u001b[0mself\u001b[0m\u001b[0;34m.\u001b[0m\u001b[0m_make_engine\u001b[0m\u001b[0;34m(\u001b[0m\u001b[0mself\u001b[0m\u001b[0;34m.\u001b[0m\u001b[0mengine\u001b[0m\u001b[0;34m)\u001b[0m\u001b[0;34m\u001b[0m\u001b[0;34m\u001b[0m\u001b[0m\n\u001b[0m\u001b[1;32m    947\u001b[0m \u001b[0;34m\u001b[0m\u001b[0m\n\u001b[1;32m    948\u001b[0m     \u001b[0;32mdef\u001b[0m \u001b[0mclose\u001b[0m\u001b[0;34m(\u001b[0m\u001b[0mself\u001b[0m\u001b[0;34m)\u001b[0m\u001b[0;34m:\u001b[0m\u001b[0;34m\u001b[0m\u001b[0;34m\u001b[0m\u001b[0m\n",
      "\u001b[0;32m~/opt/anaconda3/envs/learn-env/lib/python3.8/site-packages/pandas/io/parsers.py\u001b[0m in \u001b[0;36m_make_engine\u001b[0;34m(self, engine)\u001b[0m\n\u001b[1;32m   1176\u001b[0m     \u001b[0;32mdef\u001b[0m \u001b[0m_make_engine\u001b[0m\u001b[0;34m(\u001b[0m\u001b[0mself\u001b[0m\u001b[0;34m,\u001b[0m \u001b[0mengine\u001b[0m\u001b[0;34m=\u001b[0m\u001b[0;34m\"c\"\u001b[0m\u001b[0;34m)\u001b[0m\u001b[0;34m:\u001b[0m\u001b[0;34m\u001b[0m\u001b[0;34m\u001b[0m\u001b[0m\n\u001b[1;32m   1177\u001b[0m         \u001b[0;32mif\u001b[0m \u001b[0mengine\u001b[0m \u001b[0;34m==\u001b[0m \u001b[0;34m\"c\"\u001b[0m\u001b[0;34m:\u001b[0m\u001b[0;34m\u001b[0m\u001b[0;34m\u001b[0m\u001b[0m\n\u001b[0;32m-> 1178\u001b[0;31m             \u001b[0mself\u001b[0m\u001b[0;34m.\u001b[0m\u001b[0m_engine\u001b[0m \u001b[0;34m=\u001b[0m \u001b[0mCParserWrapper\u001b[0m\u001b[0;34m(\u001b[0m\u001b[0mself\u001b[0m\u001b[0;34m.\u001b[0m\u001b[0mf\u001b[0m\u001b[0;34m,\u001b[0m \u001b[0;34m**\u001b[0m\u001b[0mself\u001b[0m\u001b[0;34m.\u001b[0m\u001b[0moptions\u001b[0m\u001b[0;34m)\u001b[0m\u001b[0;34m\u001b[0m\u001b[0;34m\u001b[0m\u001b[0m\n\u001b[0m\u001b[1;32m   1179\u001b[0m         \u001b[0;32melse\u001b[0m\u001b[0;34m:\u001b[0m\u001b[0;34m\u001b[0m\u001b[0;34m\u001b[0m\u001b[0m\n\u001b[1;32m   1180\u001b[0m             \u001b[0;32mif\u001b[0m \u001b[0mengine\u001b[0m \u001b[0;34m==\u001b[0m \u001b[0;34m\"python\"\u001b[0m\u001b[0;34m:\u001b[0m\u001b[0;34m\u001b[0m\u001b[0;34m\u001b[0m\u001b[0m\n",
      "\u001b[0;32m~/opt/anaconda3/envs/learn-env/lib/python3.8/site-packages/pandas/io/parsers.py\u001b[0m in \u001b[0;36m__init__\u001b[0;34m(self, src, **kwds)\u001b[0m\n\u001b[1;32m   2006\u001b[0m         \u001b[0mkwds\u001b[0m\u001b[0;34m[\u001b[0m\u001b[0;34m\"usecols\"\u001b[0m\u001b[0;34m]\u001b[0m \u001b[0;34m=\u001b[0m \u001b[0mself\u001b[0m\u001b[0;34m.\u001b[0m\u001b[0musecols\u001b[0m\u001b[0;34m\u001b[0m\u001b[0;34m\u001b[0m\u001b[0m\n\u001b[1;32m   2007\u001b[0m \u001b[0;34m\u001b[0m\u001b[0m\n\u001b[0;32m-> 2008\u001b[0;31m         \u001b[0mself\u001b[0m\u001b[0;34m.\u001b[0m\u001b[0m_reader\u001b[0m \u001b[0;34m=\u001b[0m \u001b[0mparsers\u001b[0m\u001b[0;34m.\u001b[0m\u001b[0mTextReader\u001b[0m\u001b[0;34m(\u001b[0m\u001b[0msrc\u001b[0m\u001b[0;34m,\u001b[0m \u001b[0;34m**\u001b[0m\u001b[0mkwds\u001b[0m\u001b[0;34m)\u001b[0m\u001b[0;34m\u001b[0m\u001b[0;34m\u001b[0m\u001b[0m\n\u001b[0m\u001b[1;32m   2009\u001b[0m         \u001b[0mself\u001b[0m\u001b[0;34m.\u001b[0m\u001b[0munnamed_cols\u001b[0m \u001b[0;34m=\u001b[0m \u001b[0mself\u001b[0m\u001b[0;34m.\u001b[0m\u001b[0m_reader\u001b[0m\u001b[0;34m.\u001b[0m\u001b[0munnamed_cols\u001b[0m\u001b[0;34m\u001b[0m\u001b[0;34m\u001b[0m\u001b[0m\n\u001b[1;32m   2010\u001b[0m \u001b[0;34m\u001b[0m\u001b[0m\n",
      "\u001b[0;32mpandas/_libs/parsers.pyx\u001b[0m in \u001b[0;36mpandas._libs.parsers.TextReader.__cinit__\u001b[0;34m()\u001b[0m\n",
      "\u001b[0;32mpandas/_libs/parsers.pyx\u001b[0m in \u001b[0;36mpandas._libs.parsers.TextReader._setup_parser_source\u001b[0;34m()\u001b[0m\n",
      "\u001b[0;31mFileNotFoundError\u001b[0m: [Errno 2] No such file or directory: 'complete.csv'"
     ]
    }
   ],
   "source": [
    "a = pd.read_csv('complete.csv')\n",
    "b = pd.read_csv('tracks 2.csv')\n",
    "df2 = pd.merge(a, b, how='inner', left_on= 'track_id', right_on='id')"
   ]
  },
  {
   "cell_type": "code",
   "execution_count": null,
   "metadata": {},
   "outputs": [],
   "source": [
    "df2"
   ]
  },
  {
   "cell_type": "code",
   "execution_count": 268,
   "metadata": {},
   "outputs": [
    {
     "data": {
      "text/html": [
       "<div>\n",
       "<style scoped>\n",
       "    .dataframe tbody tr th:only-of-type {\n",
       "        vertical-align: middle;\n",
       "    }\n",
       "\n",
       "    .dataframe tbody tr th {\n",
       "        vertical-align: top;\n",
       "    }\n",
       "\n",
       "    .dataframe thead th {\n",
       "        text-align: right;\n",
       "    }\n",
       "</style>\n",
       "<table border=\"1\" class=\"dataframe\">\n",
       "  <thead>\n",
       "    <tr style=\"text-align: right;\">\n",
       "      <th></th>\n",
       "      <th>track_title</th>\n",
       "      <th>artist_name</th>\n",
       "      <th>track_id</th>\n",
       "      <th>duration_ms_x</th>\n",
       "      <th>energy_x</th>\n",
       "      <th>key_x</th>\n",
       "      <th>mode_x</th>\n",
       "      <th>time_signature_x</th>\n",
       "      <th>acousticness_x</th>\n",
       "      <th>danceability_x</th>\n",
       "      <th>...</th>\n",
       "      <th>key_y</th>\n",
       "      <th>loudness_y</th>\n",
       "      <th>mode_y</th>\n",
       "      <th>speechiness_y</th>\n",
       "      <th>acousticness_y</th>\n",
       "      <th>instrumentalness_y</th>\n",
       "      <th>liveness_y</th>\n",
       "      <th>valence_y</th>\n",
       "      <th>tempo_y</th>\n",
       "      <th>time_signature_y</th>\n",
       "    </tr>\n",
       "  </thead>\n",
       "  <tbody>\n",
       "    <tr>\n",
       "      <th>0</th>\n",
       "      <td>Oggi No (Sanremo 2018)</td>\n",
       "      <td>Romantika</td>\n",
       "      <td>6lBcqaog2TFpP60ZBR10Tn</td>\n",
       "      <td>227031</td>\n",
       "      <td>0.668</td>\n",
       "      <td>6</td>\n",
       "      <td>1</td>\n",
       "      <td>4</td>\n",
       "      <td>0.0419</td>\n",
       "      <td>0.565</td>\n",
       "      <td>...</td>\n",
       "      <td>6</td>\n",
       "      <td>-8.871</td>\n",
       "      <td>1</td>\n",
       "      <td>0.0363</td>\n",
       "      <td>0.0419</td>\n",
       "      <td>0.000151</td>\n",
       "      <td>0.0876</td>\n",
       "      <td>0.140</td>\n",
       "      <td>154.011</td>\n",
       "      <td>4</td>\n",
       "    </tr>\n",
       "    <tr>\n",
       "      <th>1</th>\n",
       "      <td>Understatement of the Year</td>\n",
       "      <td>always rushing by</td>\n",
       "      <td>3m7cy32Kw4KdQNgKwIz7pz</td>\n",
       "      <td>224080</td>\n",
       "      <td>0.725</td>\n",
       "      <td>4</td>\n",
       "      <td>1</td>\n",
       "      <td>4</td>\n",
       "      <td>0.1400</td>\n",
       "      <td>0.526</td>\n",
       "      <td>...</td>\n",
       "      <td>4</td>\n",
       "      <td>-10.979</td>\n",
       "      <td>1</td>\n",
       "      <td>0.0561</td>\n",
       "      <td>0.1400</td>\n",
       "      <td>0.000000</td>\n",
       "      <td>0.2760</td>\n",
       "      <td>0.450</td>\n",
       "      <td>92.129</td>\n",
       "      <td>4</td>\n",
       "    </tr>\n",
       "    <tr>\n",
       "      <th>2</th>\n",
       "      <td>Closer</td>\n",
       "      <td>The Chainsmokers</td>\n",
       "      <td>7BKLCZ1jbUBVqRi2FVlTVw</td>\n",
       "      <td>244960</td>\n",
       "      <td>0.524</td>\n",
       "      <td>8</td>\n",
       "      <td>1</td>\n",
       "      <td>4</td>\n",
       "      <td>0.4140</td>\n",
       "      <td>0.748</td>\n",
       "      <td>...</td>\n",
       "      <td>8</td>\n",
       "      <td>-5.599</td>\n",
       "      <td>1</td>\n",
       "      <td>0.0338</td>\n",
       "      <td>0.4140</td>\n",
       "      <td>0.000000</td>\n",
       "      <td>0.1110</td>\n",
       "      <td>0.661</td>\n",
       "      <td>95.010</td>\n",
       "      <td>4</td>\n",
       "    </tr>\n",
       "    <tr>\n",
       "      <th>3</th>\n",
       "      <td>Rockabye</td>\n",
       "      <td>Clean Bandit</td>\n",
       "      <td>5knuzwU65gJK7IF5yJsuaW</td>\n",
       "      <td>251088</td>\n",
       "      <td>0.763</td>\n",
       "      <td>9</td>\n",
       "      <td>0</td>\n",
       "      <td>4</td>\n",
       "      <td>0.4060</td>\n",
       "      <td>0.720</td>\n",
       "      <td>...</td>\n",
       "      <td>9</td>\n",
       "      <td>-4.068</td>\n",
       "      <td>0</td>\n",
       "      <td>0.0523</td>\n",
       "      <td>0.4060</td>\n",
       "      <td>0.000000</td>\n",
       "      <td>0.1800</td>\n",
       "      <td>0.742</td>\n",
       "      <td>101.965</td>\n",
       "      <td>4</td>\n",
       "    </tr>\n",
       "    <tr>\n",
       "      <th>4</th>\n",
       "      <td>Black Beatles</td>\n",
       "      <td>Rae Sremmurd</td>\n",
       "      <td>6fujklziTHa8uoM5OQSfIo</td>\n",
       "      <td>291893</td>\n",
       "      <td>0.632</td>\n",
       "      <td>0</td>\n",
       "      <td>1</td>\n",
       "      <td>4</td>\n",
       "      <td>0.1420</td>\n",
       "      <td>0.794</td>\n",
       "      <td>...</td>\n",
       "      <td>0</td>\n",
       "      <td>-6.163</td>\n",
       "      <td>1</td>\n",
       "      <td>0.0649</td>\n",
       "      <td>0.1420</td>\n",
       "      <td>0.000000</td>\n",
       "      <td>0.1280</td>\n",
       "      <td>0.355</td>\n",
       "      <td>145.926</td>\n",
       "      <td>4</td>\n",
       "    </tr>\n",
       "  </tbody>\n",
       "</table>\n",
       "<p>5 rows × 37 columns</p>\n",
       "</div>"
      ],
      "text/plain": [
       "                  track_title        artist_name                track_id  \\\n",
       "0      Oggi No (Sanremo 2018)          Romantika  6lBcqaog2TFpP60ZBR10Tn   \n",
       "1  Understatement of the Year  always rushing by  3m7cy32Kw4KdQNgKwIz7pz   \n",
       "2                      Closer   The Chainsmokers  7BKLCZ1jbUBVqRi2FVlTVw   \n",
       "3                   Rockabye        Clean Bandit  5knuzwU65gJK7IF5yJsuaW   \n",
       "4               Black Beatles       Rae Sremmurd  6fujklziTHa8uoM5OQSfIo   \n",
       "\n",
       "   duration_ms_x  energy_x  key_x  mode_x  time_signature_x  acousticness_x  \\\n",
       "0         227031     0.668      6       1                 4          0.0419   \n",
       "1         224080     0.725      4       1                 4          0.1400   \n",
       "2         244960     0.524      8       1                 4          0.4140   \n",
       "3         251088     0.763      9       0                 4          0.4060   \n",
       "4         291893     0.632      0       1                 4          0.1420   \n",
       "\n",
       "   danceability_x  ...  key_y  loudness_y  mode_y  speechiness_y  \\\n",
       "0           0.565  ...      6      -8.871       1         0.0363   \n",
       "1           0.526  ...      4     -10.979       1         0.0561   \n",
       "2           0.748  ...      8      -5.599       1         0.0338   \n",
       "3           0.720  ...      9      -4.068       0         0.0523   \n",
       "4           0.794  ...      0      -6.163       1         0.0649   \n",
       "\n",
       "   acousticness_y  instrumentalness_y  liveness_y valence_y  tempo_y  \\\n",
       "0          0.0419            0.000151      0.0876     0.140  154.011   \n",
       "1          0.1400            0.000000      0.2760     0.450   92.129   \n",
       "2          0.4140            0.000000      0.1110     0.661   95.010   \n",
       "3          0.4060            0.000000      0.1800     0.742  101.965   \n",
       "4          0.1420            0.000000      0.1280     0.355  145.926   \n",
       "\n",
       "   time_signature_y  \n",
       "0                 4  \n",
       "1                 4  \n",
       "2                 4  \n",
       "3                 4  \n",
       "4                 4  \n",
       "\n",
       "[5 rows x 37 columns]"
      ]
     },
     "execution_count": 268,
     "metadata": {},
     "output_type": "execute_result"
    }
   ],
   "source": [
    "df2.head()"
   ]
  },
  {
   "cell_type": "code",
   "execution_count": 269,
   "metadata": {},
   "outputs": [
    {
     "data": {
      "text/plain": [
       "track_title           0\n",
       "artist_name           0\n",
       "track_id              0\n",
       "duration_ms_x         0\n",
       "energy_x              0\n",
       "key_x                 0\n",
       "mode_x                0\n",
       "time_signature_x      0\n",
       "acousticness_x        0\n",
       "danceability_x        0\n",
       "instrumentalness_x    0\n",
       "liveness_x            0\n",
       "loudness_x            0\n",
       "speechiness_x         0\n",
       "valence_x             0\n",
       "tempo_x               0\n",
       "On_chart              0\n",
       "id                    0\n",
       "name                  0\n",
       "popularity            0\n",
       "duration_ms_y         0\n",
       "explicit              0\n",
       "artists               0\n",
       "id_artists            0\n",
       "release_date          0\n",
       "danceability_y        0\n",
       "energy_y              0\n",
       "key_y                 0\n",
       "loudness_y            0\n",
       "mode_y                0\n",
       "speechiness_y         0\n",
       "acousticness_y        0\n",
       "instrumentalness_y    0\n",
       "liveness_y            0\n",
       "valence_y             0\n",
       "tempo_y               0\n",
       "time_signature_y      0\n",
       "dtype: int64"
      ]
     },
     "execution_count": 269,
     "metadata": {},
     "output_type": "execute_result"
    }
   ],
   "source": [
    "df2.isna().sum()"
   ]
  },
  {
   "cell_type": "code",
   "execution_count": 270,
   "metadata": {},
   "outputs": [
    {
     "data": {
      "text/plain": [
       "['track_title',\n",
       " 'artist_name',\n",
       " 'track_id',\n",
       " 'id',\n",
       " 'name',\n",
       " 'artists',\n",
       " 'id_artists',\n",
       " 'release_date']"
      ]
     },
     "execution_count": 270,
     "metadata": {},
     "output_type": "execute_result"
    }
   ],
   "source": [
    "cat_cols = list(df.select_dtypes('object').columns)\n",
    "cat_cols"
   ]
  },
  {
   "cell_type": "code",
   "execution_count": 271,
   "metadata": {},
   "outputs": [],
   "source": [
    "df2=df.drop(['track_title',\n",
    " 'artist_name',\n",
    " 'track_id',\n",
    " 'id',\n",
    " 'name',\n",
    " 'artists',\n",
    " 'id_artists',\n",
    " 'release_date',\n",
    "'popularity'], axis=1)"
   ]
  },
  {
   "cell_type": "code",
   "execution_count": 245,
   "metadata": {},
   "outputs": [],
   "source": [
    "# Imports\n",
    "from sklearn.model_selection import train_test_split, GridSearchCV, cross_val_score\n",
    "from sklearn.linear_model import LogisticRegression\n",
    "from sklearn.preprocessing import StandardScaler, OneHotEncoder\n",
    "from sklearn.impute import SimpleImputer\n",
    "from sklearn.tree import DecisionTreeClassifier\n",
    "from sklearn.ensemble import RandomForestClassifier\n",
    "from sklearn.metrics import accuracy_score, recall_score\n",
    "from sklearn.pipeline import Pipeline, make_pipeline\n",
    "from sklearn.compose import make_column_selector, make_column_transformer\n",
    "from sklearn.ensemble import RandomForestClassifier"
   ]
  },
  {
   "cell_type": "code",
   "execution_count": 246,
   "metadata": {},
   "outputs": [],
   "source": [
    "# Target\n",
    "y = df2['On_chart']\n",
    "# Features\n",
    "X = df2.drop(\"On_chart\", axis=1)"
   ]
  },
  {
   "cell_type": "code",
   "execution_count": 247,
   "metadata": {},
   "outputs": [],
   "source": [
    "# Initial Train-Test Split\n",
    "X_tr, X_test, y_tr, y_test = train_test_split(X, y, test_size=.15, random_state=2021)"
   ]
  },
  {
   "cell_type": "code",
   "execution_count": 248,
   "metadata": {},
   "outputs": [],
   "source": [
    "X_train, X_val, y_train, y_val = train_test_split(X_tr, y_tr, test_size=.15, random_state=2021)"
   ]
  },
  {
   "cell_type": "code",
   "execution_count": 249,
   "metadata": {},
   "outputs": [
    {
     "data": {
      "text/plain": [
       "duration_ms_x         0\n",
       "energy_x              0\n",
       "key_x                 0\n",
       "mode_x                0\n",
       "time_signature_x      0\n",
       "acousticness_x        0\n",
       "danceability_x        0\n",
       "instrumentalness_x    0\n",
       "liveness_x            0\n",
       "loudness_x            0\n",
       "speechiness_x         0\n",
       "valence_x             0\n",
       "tempo_x               0\n",
       "duration_ms_y         0\n",
       "explicit              0\n",
       "danceability_y        0\n",
       "energy_y              0\n",
       "key_y                 0\n",
       "loudness_y            0\n",
       "mode_y                0\n",
       "speechiness_y         0\n",
       "acousticness_y        0\n",
       "instrumentalness_y    0\n",
       "liveness_y            0\n",
       "valence_y             0\n",
       "tempo_y               0\n",
       "time_signature_y      0\n",
       "dtype: int64"
      ]
     },
     "execution_count": 249,
     "metadata": {},
     "output_type": "execute_result"
    }
   ],
   "source": [
    "X_train.isna().sum()"
   ]
  },
  {
   "cell_type": "code",
   "execution_count": 250,
   "metadata": {},
   "outputs": [
    {
     "data": {
      "text/plain": [
       "duration_ms_x         0\n",
       "energy_x              0\n",
       "key_x                 0\n",
       "mode_x                0\n",
       "time_signature_x      0\n",
       "acousticness_x        0\n",
       "danceability_x        0\n",
       "instrumentalness_x    0\n",
       "liveness_x            0\n",
       "loudness_x            0\n",
       "speechiness_x         0\n",
       "valence_x             0\n",
       "tempo_x               0\n",
       "duration_ms_y         0\n",
       "explicit              0\n",
       "danceability_y        0\n",
       "energy_y              0\n",
       "key_y                 0\n",
       "loudness_y            0\n",
       "mode_y                0\n",
       "speechiness_y         0\n",
       "acousticness_y        0\n",
       "instrumentalness_y    0\n",
       "liveness_y            0\n",
       "valence_y             0\n",
       "tempo_y               0\n",
       "time_signature_y      0\n",
       "dtype: int64"
      ]
     },
     "execution_count": 250,
     "metadata": {},
     "output_type": "execute_result"
    }
   ],
   "source": [
    "X_val.isna().sum()"
   ]
  },
  {
   "cell_type": "code",
   "execution_count": 251,
   "metadata": {},
   "outputs": [
    {
     "data": {
      "text/plain": [
       "['duration_ms_x',\n",
       " 'energy_x',\n",
       " 'key_x',\n",
       " 'mode_x',\n",
       " 'time_signature_x',\n",
       " 'acousticness_x',\n",
       " 'danceability_x',\n",
       " 'instrumentalness_x',\n",
       " 'liveness_x',\n",
       " 'loudness_x',\n",
       " 'speechiness_x',\n",
       " 'valence_x',\n",
       " 'tempo_x',\n",
       " 'duration_ms_y',\n",
       " 'explicit',\n",
       " 'danceability_y',\n",
       " 'energy_y',\n",
       " 'key_y',\n",
       " 'loudness_y',\n",
       " 'mode_y',\n",
       " 'speechiness_y',\n",
       " 'acousticness_y',\n",
       " 'instrumentalness_y',\n",
       " 'liveness_y',\n",
       " 'valence_y',\n",
       " 'tempo_y',\n",
       " 'time_signature_y']"
      ]
     },
     "execution_count": 251,
     "metadata": {},
     "output_type": "execute_result"
    }
   ],
   "source": [
    "num_cols = list(X.select_dtypes('number').columns)\n",
    "num_cols"
   ]
  },
  {
   "cell_type": "code",
   "execution_count": 252,
   "metadata": {},
   "outputs": [],
   "source": [
    "# Instantiate StandardScaler\n",
    "scaler = StandardScaler()"
   ]
  },
  {
   "cell_type": "code",
   "execution_count": 253,
   "metadata": {},
   "outputs": [
    {
     "data": {
      "text/plain": [
       "StandardScaler()"
      ]
     },
     "execution_count": 253,
     "metadata": {},
     "output_type": "execute_result"
    }
   ],
   "source": [
    "scaler.fit(X_train[num_cols])"
   ]
  },
  {
   "cell_type": "code",
   "execution_count": 254,
   "metadata": {},
   "outputs": [],
   "source": [
    "X_train_scaled = pd.DataFrame(scaler.transform(X_train[num_cols]), columns=num_cols)\n",
    "X_val_scaled = pd.DataFrame(scaler.transform(X_val[num_cols]), columns=num_cols)"
   ]
  },
  {
   "cell_type": "code",
   "execution_count": 255,
   "metadata": {},
   "outputs": [
    {
     "data": {
      "text/html": [
       "<div>\n",
       "<style scoped>\n",
       "    .dataframe tbody tr th:only-of-type {\n",
       "        vertical-align: middle;\n",
       "    }\n",
       "\n",
       "    .dataframe tbody tr th {\n",
       "        vertical-align: top;\n",
       "    }\n",
       "\n",
       "    .dataframe thead th {\n",
       "        text-align: right;\n",
       "    }\n",
       "</style>\n",
       "<table border=\"1\" class=\"dataframe\">\n",
       "  <thead>\n",
       "    <tr style=\"text-align: right;\">\n",
       "      <th></th>\n",
       "      <th>duration_ms_x</th>\n",
       "      <th>energy_x</th>\n",
       "      <th>key_x</th>\n",
       "      <th>mode_x</th>\n",
       "      <th>time_signature_x</th>\n",
       "      <th>acousticness_x</th>\n",
       "      <th>danceability_x</th>\n",
       "      <th>instrumentalness_x</th>\n",
       "      <th>liveness_x</th>\n",
       "      <th>loudness_x</th>\n",
       "      <th>...</th>\n",
       "      <th>key_y</th>\n",
       "      <th>loudness_y</th>\n",
       "      <th>mode_y</th>\n",
       "      <th>speechiness_y</th>\n",
       "      <th>acousticness_y</th>\n",
       "      <th>instrumentalness_y</th>\n",
       "      <th>liveness_y</th>\n",
       "      <th>valence_y</th>\n",
       "      <th>tempo_y</th>\n",
       "      <th>time_signature_y</th>\n",
       "    </tr>\n",
       "  </thead>\n",
       "  <tbody>\n",
       "    <tr>\n",
       "      <th>0</th>\n",
       "      <td>-0.122192</td>\n",
       "      <td>0.657965</td>\n",
       "      <td>0.204078</td>\n",
       "      <td>-1.480644</td>\n",
       "      <td>0.142054</td>\n",
       "      <td>-0.742078</td>\n",
       "      <td>0.385264</td>\n",
       "      <td>-0.229210</td>\n",
       "      <td>0.800508</td>\n",
       "      <td>-1.251153</td>\n",
       "      <td>...</td>\n",
       "      <td>0.204078</td>\n",
       "      <td>-1.251170</td>\n",
       "      <td>-1.480644</td>\n",
       "      <td>-0.401691</td>\n",
       "      <td>-0.742109</td>\n",
       "      <td>-0.229196</td>\n",
       "      <td>0.800497</td>\n",
       "      <td>0.612779</td>\n",
       "      <td>0.093021</td>\n",
       "      <td>0.142054</td>\n",
       "    </tr>\n",
       "    <tr>\n",
       "      <th>1</th>\n",
       "      <td>-0.857324</td>\n",
       "      <td>0.894083</td>\n",
       "      <td>-0.074153</td>\n",
       "      <td>-1.480644</td>\n",
       "      <td>0.142054</td>\n",
       "      <td>0.615997</td>\n",
       "      <td>0.098732</td>\n",
       "      <td>-0.229166</td>\n",
       "      <td>0.018149</td>\n",
       "      <td>0.409318</td>\n",
       "      <td>...</td>\n",
       "      <td>-0.074153</td>\n",
       "      <td>0.409312</td>\n",
       "      <td>-1.480644</td>\n",
       "      <td>-0.302834</td>\n",
       "      <td>0.615960</td>\n",
       "      <td>-0.229152</td>\n",
       "      <td>0.018135</td>\n",
       "      <td>1.457904</td>\n",
       "      <td>-0.594541</td>\n",
       "      <td>0.142054</td>\n",
       "    </tr>\n",
       "    <tr>\n",
       "      <th>2</th>\n",
       "      <td>-0.929834</td>\n",
       "      <td>0.070293</td>\n",
       "      <td>-1.465306</td>\n",
       "      <td>0.675382</td>\n",
       "      <td>0.142054</td>\n",
       "      <td>-0.041274</td>\n",
       "      <td>1.776990</td>\n",
       "      <td>-0.229210</td>\n",
       "      <td>0.340700</td>\n",
       "      <td>0.698244</td>\n",
       "      <td>...</td>\n",
       "      <td>-1.465306</td>\n",
       "      <td>0.698239</td>\n",
       "      <td>0.675382</td>\n",
       "      <td>3.027081</td>\n",
       "      <td>-0.041308</td>\n",
       "      <td>-0.229196</td>\n",
       "      <td>0.340688</td>\n",
       "      <td>0.595960</td>\n",
       "      <td>-0.397090</td>\n",
       "      <td>0.142054</td>\n",
       "    </tr>\n",
       "    <tr>\n",
       "      <th>3</th>\n",
       "      <td>0.148185</td>\n",
       "      <td>-0.748249</td>\n",
       "      <td>1.595231</td>\n",
       "      <td>-1.480644</td>\n",
       "      <td>0.142054</td>\n",
       "      <td>2.011631</td>\n",
       "      <td>0.235175</td>\n",
       "      <td>-0.091488</td>\n",
       "      <td>-0.153421</td>\n",
       "      <td>-2.534888</td>\n",
       "      <td>...</td>\n",
       "      <td>1.595231</td>\n",
       "      <td>-2.534913</td>\n",
       "      <td>-1.480644</td>\n",
       "      <td>-0.231293</td>\n",
       "      <td>2.011587</td>\n",
       "      <td>-0.091463</td>\n",
       "      <td>-0.153435</td>\n",
       "      <td>1.037444</td>\n",
       "      <td>0.078981</td>\n",
       "      <td>0.142054</td>\n",
       "    </tr>\n",
       "    <tr>\n",
       "      <th>4</th>\n",
       "      <td>0.017838</td>\n",
       "      <td>0.290670</td>\n",
       "      <td>1.317000</td>\n",
       "      <td>-1.480644</td>\n",
       "      <td>0.142054</td>\n",
       "      <td>-0.890476</td>\n",
       "      <td>1.108416</td>\n",
       "      <td>-0.229101</td>\n",
       "      <td>5.261329</td>\n",
       "      <td>-0.597955</td>\n",
       "      <td>...</td>\n",
       "      <td>1.317000</td>\n",
       "      <td>-0.597968</td>\n",
       "      <td>-1.480644</td>\n",
       "      <td>1.127988</td>\n",
       "      <td>-0.890506</td>\n",
       "      <td>-0.229087</td>\n",
       "      <td>5.261332</td>\n",
       "      <td>0.061976</td>\n",
       "      <td>-0.991538</td>\n",
       "      <td>0.142054</td>\n",
       "    </tr>\n",
       "    <tr>\n",
       "      <th>...</th>\n",
       "      <td>...</td>\n",
       "      <td>...</td>\n",
       "      <td>...</td>\n",
       "      <td>...</td>\n",
       "      <td>...</td>\n",
       "      <td>...</td>\n",
       "      <td>...</td>\n",
       "      <td>...</td>\n",
       "      <td>...</td>\n",
       "      <td>...</td>\n",
       "      <td>...</td>\n",
       "      <td>...</td>\n",
       "      <td>...</td>\n",
       "      <td>...</td>\n",
       "      <td>...</td>\n",
       "      <td>...</td>\n",
       "      <td>...</td>\n",
       "      <td>...</td>\n",
       "      <td>...</td>\n",
       "      <td>...</td>\n",
       "      <td>...</td>\n",
       "    </tr>\n",
       "    <tr>\n",
       "      <th>7548</th>\n",
       "      <td>0.806916</td>\n",
       "      <td>1.534225</td>\n",
       "      <td>-1.465306</td>\n",
       "      <td>0.675382</td>\n",
       "      <td>0.142054</td>\n",
       "      <td>-0.823597</td>\n",
       "      <td>-0.085468</td>\n",
       "      <td>0.401648</td>\n",
       "      <td>-0.400482</td>\n",
       "      <td>0.585789</td>\n",
       "      <td>...</td>\n",
       "      <td>-1.465306</td>\n",
       "      <td>0.585784</td>\n",
       "      <td>0.675382</td>\n",
       "      <td>-0.295030</td>\n",
       "      <td>-0.823627</td>\n",
       "      <td>0.401712</td>\n",
       "      <td>-0.400497</td>\n",
       "      <td>-0.715876</td>\n",
       "      <td>0.831867</td>\n",
       "      <td>0.142054</td>\n",
       "    </tr>\n",
       "    <tr>\n",
       "      <th>7549</th>\n",
       "      <td>0.719410</td>\n",
       "      <td>-0.171072</td>\n",
       "      <td>-1.187076</td>\n",
       "      <td>-1.480644</td>\n",
       "      <td>-4.166921</td>\n",
       "      <td>1.017189</td>\n",
       "      <td>-1.572705</td>\n",
       "      <td>-0.229210</td>\n",
       "      <td>5.069171</td>\n",
       "      <td>-0.146155</td>\n",
       "      <td>...</td>\n",
       "      <td>-1.187076</td>\n",
       "      <td>-0.146165</td>\n",
       "      <td>-1.480644</td>\n",
       "      <td>2.766931</td>\n",
       "      <td>1.017149</td>\n",
       "      <td>-0.229196</td>\n",
       "      <td>5.069173</td>\n",
       "      <td>0.553914</td>\n",
       "      <td>0.883152</td>\n",
       "      <td>-4.166921</td>\n",
       "    </tr>\n",
       "    <tr>\n",
       "      <th>7550</th>\n",
       "      <td>-0.740676</td>\n",
       "      <td>-0.291754</td>\n",
       "      <td>-0.352384</td>\n",
       "      <td>-1.480644</td>\n",
       "      <td>0.142054</td>\n",
       "      <td>0.837933</td>\n",
       "      <td>-0.310600</td>\n",
       "      <td>-0.229196</td>\n",
       "      <td>-0.554209</td>\n",
       "      <td>0.708158</td>\n",
       "      <td>...</td>\n",
       "      <td>-0.352384</td>\n",
       "      <td>0.708153</td>\n",
       "      <td>-1.480644</td>\n",
       "      <td>-0.324947</td>\n",
       "      <td>0.837894</td>\n",
       "      <td>-0.229182</td>\n",
       "      <td>-0.554224</td>\n",
       "      <td>-0.963948</td>\n",
       "      <td>0.255609</td>\n",
       "      <td>0.142054</td>\n",
       "    </tr>\n",
       "    <tr>\n",
       "      <th>7551</th>\n",
       "      <td>-0.900568</td>\n",
       "      <td>-0.129095</td>\n",
       "      <td>0.482308</td>\n",
       "      <td>0.675382</td>\n",
       "      <td>0.142054</td>\n",
       "      <td>-0.747200</td>\n",
       "      <td>-0.071823</td>\n",
       "      <td>-0.227717</td>\n",
       "      <td>0.683840</td>\n",
       "      <td>-0.987437</td>\n",
       "      <td>...</td>\n",
       "      <td>0.482308</td>\n",
       "      <td>-0.987453</td>\n",
       "      <td>0.675382</td>\n",
       "      <td>-0.547375</td>\n",
       "      <td>-0.747230</td>\n",
       "      <td>-0.227703</td>\n",
       "      <td>0.683829</td>\n",
       "      <td>0.448799</td>\n",
       "      <td>0.079415</td>\n",
       "      <td>0.142054</td>\n",
       "    </tr>\n",
       "    <tr>\n",
       "      <th>7552</th>\n",
       "      <td>0.032664</td>\n",
       "      <td>0.511047</td>\n",
       "      <td>1.595231</td>\n",
       "      <td>-1.480644</td>\n",
       "      <td>0.142054</td>\n",
       "      <td>1.747015</td>\n",
       "      <td>0.276109</td>\n",
       "      <td>-0.229197</td>\n",
       "      <td>5.275055</td>\n",
       "      <td>0.151552</td>\n",
       "      <td>...</td>\n",
       "      <td>1.595231</td>\n",
       "      <td>0.151543</td>\n",
       "      <td>-1.480644</td>\n",
       "      <td>-0.406894</td>\n",
       "      <td>1.746972</td>\n",
       "      <td>-0.229183</td>\n",
       "      <td>5.275057</td>\n",
       "      <td>0.894487</td>\n",
       "      <td>0.099481</td>\n",
       "      <td>0.142054</td>\n",
       "    </tr>\n",
       "  </tbody>\n",
       "</table>\n",
       "<p>7553 rows × 27 columns</p>\n",
       "</div>"
      ],
      "text/plain": [
       "      duration_ms_x  energy_x     key_x    mode_x  time_signature_x  \\\n",
       "0         -0.122192  0.657965  0.204078 -1.480644          0.142054   \n",
       "1         -0.857324  0.894083 -0.074153 -1.480644          0.142054   \n",
       "2         -0.929834  0.070293 -1.465306  0.675382          0.142054   \n",
       "3          0.148185 -0.748249  1.595231 -1.480644          0.142054   \n",
       "4          0.017838  0.290670  1.317000 -1.480644          0.142054   \n",
       "...             ...       ...       ...       ...               ...   \n",
       "7548       0.806916  1.534225 -1.465306  0.675382          0.142054   \n",
       "7549       0.719410 -0.171072 -1.187076 -1.480644         -4.166921   \n",
       "7550      -0.740676 -0.291754 -0.352384 -1.480644          0.142054   \n",
       "7551      -0.900568 -0.129095  0.482308  0.675382          0.142054   \n",
       "7552       0.032664  0.511047  1.595231 -1.480644          0.142054   \n",
       "\n",
       "      acousticness_x  danceability_x  instrumentalness_x  liveness_x  \\\n",
       "0          -0.742078        0.385264           -0.229210    0.800508   \n",
       "1           0.615997        0.098732           -0.229166    0.018149   \n",
       "2          -0.041274        1.776990           -0.229210    0.340700   \n",
       "3           2.011631        0.235175           -0.091488   -0.153421   \n",
       "4          -0.890476        1.108416           -0.229101    5.261329   \n",
       "...              ...             ...                 ...         ...   \n",
       "7548       -0.823597       -0.085468            0.401648   -0.400482   \n",
       "7549        1.017189       -1.572705           -0.229210    5.069171   \n",
       "7550        0.837933       -0.310600           -0.229196   -0.554209   \n",
       "7551       -0.747200       -0.071823           -0.227717    0.683840   \n",
       "7552        1.747015        0.276109           -0.229197    5.275055   \n",
       "\n",
       "      loudness_x  ...     key_y  loudness_y    mode_y  speechiness_y  \\\n",
       "0      -1.251153  ...  0.204078   -1.251170 -1.480644      -0.401691   \n",
       "1       0.409318  ... -0.074153    0.409312 -1.480644      -0.302834   \n",
       "2       0.698244  ... -1.465306    0.698239  0.675382       3.027081   \n",
       "3      -2.534888  ...  1.595231   -2.534913 -1.480644      -0.231293   \n",
       "4      -0.597955  ...  1.317000   -0.597968 -1.480644       1.127988   \n",
       "...          ...  ...       ...         ...       ...            ...   \n",
       "7548    0.585789  ... -1.465306    0.585784  0.675382      -0.295030   \n",
       "7549   -0.146155  ... -1.187076   -0.146165 -1.480644       2.766931   \n",
       "7550    0.708158  ... -0.352384    0.708153 -1.480644      -0.324947   \n",
       "7551   -0.987437  ...  0.482308   -0.987453  0.675382      -0.547375   \n",
       "7552    0.151552  ...  1.595231    0.151543 -1.480644      -0.406894   \n",
       "\n",
       "      acousticness_y  instrumentalness_y  liveness_y  valence_y   tempo_y  \\\n",
       "0          -0.742109           -0.229196    0.800497   0.612779  0.093021   \n",
       "1           0.615960           -0.229152    0.018135   1.457904 -0.594541   \n",
       "2          -0.041308           -0.229196    0.340688   0.595960 -0.397090   \n",
       "3           2.011587           -0.091463   -0.153435   1.037444  0.078981   \n",
       "4          -0.890506           -0.229087    5.261332   0.061976 -0.991538   \n",
       "...              ...                 ...         ...        ...       ...   \n",
       "7548       -0.823627            0.401712   -0.400497  -0.715876  0.831867   \n",
       "7549        1.017149           -0.229196    5.069173   0.553914  0.883152   \n",
       "7550        0.837894           -0.229182   -0.554224  -0.963948  0.255609   \n",
       "7551       -0.747230           -0.227703    0.683829   0.448799  0.079415   \n",
       "7552        1.746972           -0.229183    5.275057   0.894487  0.099481   \n",
       "\n",
       "      time_signature_y  \n",
       "0             0.142054  \n",
       "1             0.142054  \n",
       "2             0.142054  \n",
       "3             0.142054  \n",
       "4             0.142054  \n",
       "...                ...  \n",
       "7548          0.142054  \n",
       "7549         -4.166921  \n",
       "7550          0.142054  \n",
       "7551          0.142054  \n",
       "7552          0.142054  \n",
       "\n",
       "[7553 rows x 27 columns]"
      ]
     },
     "execution_count": 255,
     "metadata": {},
     "output_type": "execute_result"
    }
   ],
   "source": [
    "X_train_scaled"
   ]
  },
  {
   "cell_type": "code",
   "execution_count": 256,
   "metadata": {},
   "outputs": [],
   "source": [
    "# Instantiate LogisticRegression\n",
    "logreg = LogisticRegression(solver='liblinear')"
   ]
  },
  {
   "cell_type": "code",
   "execution_count": 257,
   "metadata": {},
   "outputs": [
    {
     "name": "stdout",
     "output_type": "stream",
     "text": [
      "Training accuracy:  0.9998676022772408\n",
      "Validation accuracy:  1.0\n"
     ]
    }
   ],
   "source": [
    "def modeling_function(model, X_train, y_train, X_val_scaled, y_val):\n",
    "    model.fit(X_train, y_train)\n",
    "    train_preds = model.predict(X_train)\n",
    "    val_preds = model.predict(X_val)\n",
    "    print('Training accuracy: ', accuracy_score(y_train, train_preds))\n",
    "    print('Validation accuracy: ', accuracy_score(y_val, val_preds))\n",
    "    return model\n",
    "logreg = modeling_function(logreg, X_train_scaled, y_train, X_val_scaled, y_val)"
   ]
  },
  {
   "cell_type": "code",
   "execution_count": 259,
   "metadata": {},
   "outputs": [],
   "source": [
    "from sklearn.metrics import plot_confusion_matrix"
   ]
  },
  {
   "cell_type": "code",
   "execution_count": 260,
   "metadata": {},
   "outputs": [
    {
     "data": {
      "text/plain": [
       "<sklearn.metrics._plot.confusion_matrix.ConfusionMatrixDisplay at 0x7fa7e47e2fa0>"
      ]
     },
     "execution_count": 260,
     "metadata": {},
     "output_type": "execute_result"
    },
    {
     "data": {
      "image/png": "[encoded data removed]",
      "text/plain": [
       "<Figure size 432x288 with 2 Axes>"
      ]
     },
     "metadata": {
      "needs_background": "light"
     },
     "output_type": "display_data"
    }
   ],
   "source": [
    "plot_confusion_matrix(logreg, X_train_scaled, y_train)"
   ]
  },
  {
   "cell_type": "code",
   "execution_count": 261,
   "metadata": {},
   "outputs": [],
   "source": [
    "test_preds = logreg.predict(X_test)"
   ]
  },
  {
   "cell_type": "code",
   "execution_count": 262,
   "metadata": {},
   "outputs": [
    {
     "data": {
      "text/plain": [
       "0.9993626513702996"
      ]
     },
     "execution_count": 262,
     "metadata": {},
     "output_type": "execute_result"
    }
   ],
   "source": [
    "accuracy_score(y_test, test_preds)"
   ]
  },
  {
   "cell_type": "code",
   "execution_count": 237,
   "metadata": {},
   "outputs": [
    {
     "data": {
      "text/plain": [
       "duration_ms_x         0.003661\n",
       "energy_x             -0.003426\n",
       "key_x                 0.000993\n",
       "mode_x               -0.009356\n",
       "time_signature_x     -0.002045\n",
       "acousticness_x        0.007408\n",
       "danceability_x        0.006853\n",
       "instrumentalness_x    0.003178\n",
       "liveness_x           -0.000387\n",
       "loudness_x            0.006571\n",
       "speechiness_x         0.004614\n",
       "valence_x             0.016785\n",
       "tempo_x              -0.000983\n",
       "On_chart              1.000000\n",
       "duration_ms_y         0.003661\n",
       "explicit              0.005265\n",
       "danceability_y        0.006853\n",
       "energy_y             -0.003426\n",
       "key_y                 0.000993\n",
       "loudness_y            0.006571\n",
       "mode_y               -0.009356\n",
       "speechiness_y         0.004614\n",
       "acousticness_y        0.007407\n",
       "instrumentalness_y    0.003177\n",
       "liveness_y           -0.000387\n",
       "valence_y             0.016784\n",
       "tempo_y              -0.000983\n",
       "time_signature_y     -0.002045\n",
       "Name: On_chart, dtype: float64"
      ]
     },
     "execution_count": 237,
     "metadata": {},
     "output_type": "execute_result"
    }
   ],
   "source": [
    "df2.corr()['On_chart']"
   ]
  },
  {
   "cell_type": "code",
   "execution_count": 44,
   "metadata": {},
   "outputs": [],
   "source": [
    "from imblearn.over_sampling import SMOTE"
   ]
  },
  {
   "cell_type": "code",
   "execution_count": 45,
   "metadata": {},
   "outputs": [],
   "source": [
    "sm = SMOTE(random_state=2021)"
   ]
  },
  {
   "cell_type": "code",
   "execution_count": 46,
   "metadata": {},
   "outputs": [],
   "source": [
    "X_train_res, y_train_res = sm.fit_resample(X_train_scaled, y_train)"
   ]
  },
  {
   "cell_type": "code",
   "execution_count": 47,
   "metadata": {},
   "outputs": [
    {
     "data": {
      "text/plain": [
       "1    12557\n",
       "0    12557\n",
       "Name: On_chart, dtype: int64"
      ]
     },
     "execution_count": 47,
     "metadata": {},
     "output_type": "execute_result"
    }
   ],
   "source": [
    "y_train_res.value_counts()"
   ]
  },
  {
   "cell_type": "code",
   "execution_count": 48,
   "metadata": {},
   "outputs": [],
   "source": [
    "logreg2 = LogisticRegression(solver='liblinear')"
   ]
  },
  {
   "cell_type": "code",
   "execution_count": 49,
   "metadata": {},
   "outputs": [
    {
     "data": {
      "text/plain": [
       "LogisticRegression(solver='liblinear')"
      ]
     },
     "execution_count": 49,
     "metadata": {},
     "output_type": "execute_result"
    }
   ],
   "source": [
    "logreg2.fit(X_train_res, y_train_res)"
   ]
  },
  {
   "cell_type": "code",
   "execution_count": 50,
   "metadata": {},
   "outputs": [
    {
     "name": "stdout",
     "output_type": "stream",
     "text": [
      "Training accuracy:  0.7727960500119455\n",
      "Validation accuracy:  0.5047404063205417\n"
     ]
    }
   ],
   "source": [
    "logreg2 = modeling_function(logreg2, X_train_res, y_train_res, X_val_scaled, y_val)"
   ]
  },
  {
   "cell_type": "code",
   "execution_count": 51,
   "metadata": {},
   "outputs": [],
   "source": [
    "rf = RandomForestClassifier(random_state=2021)"
   ]
  },
  {
   "cell_type": "code",
   "execution_count": 52,
   "metadata": {},
   "outputs": [
    {
     "name": "stdout",
     "output_type": "stream",
     "text": [
      "Training accuracy:  1.0\n",
      "Validation accuracy:  0.4932279909706546\n"
     ]
    }
   ],
   "source": [
    "rf = modeling_function(rf, X_train_res, y_train_res, X_val_scaled, y_val)"
   ]
  },
  {
   "cell_type": "code",
   "execution_count": 61,
   "metadata": {},
   "outputs": [],
   "source": [
    "# Create Param Grid \n",
    "param_grid = {'n_estimators': [100, 150, 200],\n",
    "                'max_depth': [10, 15, 20, 25, 30],\n",
    "                'min_samples_leaf': [1, 2, 3],\n",
    "                'n_jobs': [-1],\n",
    "                'criterion': ['gini']}"
   ]
  },
  {
   "cell_type": "code",
   "execution_count": 62,
   "metadata": {},
   "outputs": [],
   "source": [
    "# Create GridSearchCV\n",
    "rf_gs = GridSearchCV(estimator=rf, param_grid=param_grid, scoring='accuracy')"
   ]
  },
  {
   "cell_type": "code",
   "execution_count": 63,
   "metadata": {},
   "outputs": [
    {
     "data": {
      "text/plain": [
       "GridSearchCV(estimator=RandomForestClassifier(random_state=2021),\n",
       "             param_grid={'criterion': ['gini'],\n",
       "                         'max_depth': [10, 15, 20, 25, 30],\n",
       "                         'min_samples_leaf': [1, 2, 3],\n",
       "                         'n_estimators': [100, 150, 200], 'n_jobs': [-1]},\n",
       "             scoring='accuracy')"
      ]
     },
     "execution_count": 63,
     "metadata": {},
     "output_type": "execute_result"
    }
   ],
   "source": [
    "rf_gs.fit(X_train_res, y_train_res)"
   ]
  },
  {
   "cell_type": "code",
   "execution_count": 64,
   "metadata": {},
   "outputs": [],
   "source": [
    "best_model = rf_gs.best_estimator_"
   ]
  },
  {
   "cell_type": "code",
   "execution_count": 65,
   "metadata": {},
   "outputs": [
    {
     "data": {
      "text/plain": [
       "{'criterion': 'gini',\n",
       " 'max_depth': 20,\n",
       " 'min_samples_leaf': 3,\n",
       " 'n_estimators': 100,\n",
       " 'n_jobs': -1}"
      ]
     },
     "execution_count": 65,
     "metadata": {},
     "output_type": "execute_result"
    }
   ],
   "source": [
    "rf_gs.best_params_"
   ]
  },
  {
   "cell_type": "code",
   "execution_count": 69,
   "metadata": {},
   "outputs": [
    {
     "name": "stdout",
     "output_type": "stream",
     "text": [
      "Training accuracy:  0.9516206100183164\n",
      "Validation accuracy:  0.4979683972911964\n"
     ]
    }
   ],
   "source": [
    "rf = modeling_function(rf_gs, X_train_res, y_train_res, X_val_scaled, y_val)"
   ]
  },
  {
   "cell_type": "code",
   "execution_count": null,
   "metadata": {},
   "outputs": [],
   "source": []
  },
  {
   "cell_type": "code",
   "execution_count": 68,
   "metadata": {},
   "outputs": [
    {
     "data": {
      "text/html": [
       "<div>\n",
       "<style scoped>\n",
       "    .dataframe tbody tr th:only-of-type {\n",
       "        vertical-align: middle;\n",
       "    }\n",
       "\n",
       "    .dataframe tbody tr th {\n",
       "        vertical-align: top;\n",
       "    }\n",
       "\n",
       "    .dataframe thead th {\n",
       "        text-align: right;\n",
       "    }\n",
       "</style>\n",
       "<table border=\"1\" class=\"dataframe\">\n",
       "  <thead>\n",
       "    <tr style=\"text-align: right;\">\n",
       "      <th></th>\n",
       "      <th>duration_ms</th>\n",
       "      <th>energy</th>\n",
       "      <th>key</th>\n",
       "      <th>mode</th>\n",
       "      <th>time_signature</th>\n",
       "      <th>acousticness</th>\n",
       "      <th>danceability</th>\n",
       "      <th>instrumentalness</th>\n",
       "      <th>liveness</th>\n",
       "      <th>loudness</th>\n",
       "      <th>speechiness</th>\n",
       "      <th>valence</th>\n",
       "      <th>tempo</th>\n",
       "    </tr>\n",
       "  </thead>\n",
       "  <tbody>\n",
       "    <tr>\n",
       "      <th>0</th>\n",
       "      <td>-0.004930</td>\n",
       "      <td>-2.350385</td>\n",
       "      <td>-0.335195</td>\n",
       "      <td>0.737102</td>\n",
       "      <td>0.198880</td>\n",
       "      <td>2.167450</td>\n",
       "      <td>-1.706196</td>\n",
       "      <td>-0.546589</td>\n",
       "      <td>-0.513620</td>\n",
       "      <td>-2.446999</td>\n",
       "      <td>-0.491581</td>\n",
       "      <td>-1.524405</td>\n",
       "      <td>0.380110</td>\n",
       "    </tr>\n",
       "    <tr>\n",
       "      <th>1</th>\n",
       "      <td>0.102190</td>\n",
       "      <td>-0.778424</td>\n",
       "      <td>1.325660</td>\n",
       "      <td>0.737102</td>\n",
       "      <td>0.198880</td>\n",
       "      <td>1.242899</td>\n",
       "      <td>1.401837</td>\n",
       "      <td>0.841095</td>\n",
       "      <td>-0.495375</td>\n",
       "      <td>0.234191</td>\n",
       "      <td>-0.501343</td>\n",
       "      <td>-1.226074</td>\n",
       "      <td>-0.613712</td>\n",
       "    </tr>\n",
       "    <tr>\n",
       "      <th>2</th>\n",
       "      <td>0.059131</td>\n",
       "      <td>1.032147</td>\n",
       "      <td>1.048851</td>\n",
       "      <td>-1.356665</td>\n",
       "      <td>0.198880</td>\n",
       "      <td>-0.409698</td>\n",
       "      <td>0.154208</td>\n",
       "      <td>-0.547197</td>\n",
       "      <td>-0.612754</td>\n",
       "      <td>0.913320</td>\n",
       "      <td>-0.519092</td>\n",
       "      <td>0.101496</td>\n",
       "      <td>-0.514714</td>\n",
       "    </tr>\n",
       "    <tr>\n",
       "      <th>3</th>\n",
       "      <td>-0.040894</td>\n",
       "      <td>-0.236513</td>\n",
       "      <td>-0.888814</td>\n",
       "      <td>0.737102</td>\n",
       "      <td>0.198880</td>\n",
       "      <td>-0.361376</td>\n",
       "      <td>1.550890</td>\n",
       "      <td>-0.547204</td>\n",
       "      <td>-0.604239</td>\n",
       "      <td>0.296280</td>\n",
       "      <td>0.016030</td>\n",
       "      <td>1.481275</td>\n",
       "      <td>-0.338817</td>\n",
       "    </tr>\n",
       "    <tr>\n",
       "      <th>4</th>\n",
       "      <td>-1.260341</td>\n",
       "      <td>0.893518</td>\n",
       "      <td>-0.335195</td>\n",
       "      <td>-1.356665</td>\n",
       "      <td>0.198880</td>\n",
       "      <td>-0.753425</td>\n",
       "      <td>1.837956</td>\n",
       "      <td>1.983190</td>\n",
       "      <td>-0.880962</td>\n",
       "      <td>-0.047920</td>\n",
       "      <td>-0.247537</td>\n",
       "      <td>-0.152084</td>\n",
       "      <td>0.175114</td>\n",
       "    </tr>\n",
       "    <tr>\n",
       "      <th>...</th>\n",
       "      <td>...</td>\n",
       "      <td>...</td>\n",
       "      <td>...</td>\n",
       "      <td>...</td>\n",
       "      <td>...</td>\n",
       "      <td>...</td>\n",
       "      <td>...</td>\n",
       "      <td>...</td>\n",
       "      <td>...</td>\n",
       "      <td>...</td>\n",
       "      <td>...</td>\n",
       "      <td>...</td>\n",
       "      <td>...</td>\n",
       "    </tr>\n",
       "    <tr>\n",
       "      <th>4425</th>\n",
       "      <td>-0.436365</td>\n",
       "      <td>-0.190303</td>\n",
       "      <td>0.495233</td>\n",
       "      <td>-1.356665</td>\n",
       "      <td>-1.912661</td>\n",
       "      <td>-0.785317</td>\n",
       "      <td>0.971240</td>\n",
       "      <td>-0.547201</td>\n",
       "      <td>-0.551935</td>\n",
       "      <td>0.418708</td>\n",
       "      <td>0.016917</td>\n",
       "      <td>-1.117930</td>\n",
       "      <td>1.139701</td>\n",
       "    </tr>\n",
       "    <tr>\n",
       "      <th>4426</th>\n",
       "      <td>-1.068539</td>\n",
       "      <td>-0.707009</td>\n",
       "      <td>0.495233</td>\n",
       "      <td>0.737102</td>\n",
       "      <td>0.198880</td>\n",
       "      <td>1.813093</td>\n",
       "      <td>0.750420</td>\n",
       "      <td>-0.547218</td>\n",
       "      <td>-0.428475</td>\n",
       "      <td>0.662516</td>\n",
       "      <td>-0.509330</td>\n",
       "      <td>0.951738</td>\n",
       "      <td>0.728164</td>\n",
       "    </tr>\n",
       "    <tr>\n",
       "      <th>4427</th>\n",
       "      <td>-0.199429</td>\n",
       "      <td>0.427223</td>\n",
       "      <td>-1.442432</td>\n",
       "      <td>0.737102</td>\n",
       "      <td>0.198880</td>\n",
       "      <td>-0.764378</td>\n",
       "      <td>-0.022448</td>\n",
       "      <td>-0.547218</td>\n",
       "      <td>-0.843863</td>\n",
       "      <td>0.316393</td>\n",
       "      <td>-0.402838</td>\n",
       "      <td>-1.319303</td>\n",
       "      <td>0.278367</td>\n",
       "    </tr>\n",
       "    <tr>\n",
       "      <th>4428</th>\n",
       "      <td>1.048712</td>\n",
       "      <td>0.507039</td>\n",
       "      <td>-0.335195</td>\n",
       "      <td>-1.356665</td>\n",
       "      <td>0.198880</td>\n",
       "      <td>0.034860</td>\n",
       "      <td>1.175498</td>\n",
       "      <td>-0.547204</td>\n",
       "      <td>-0.598765</td>\n",
       "      <td>0.923290</td>\n",
       "      <td>0.978007</td>\n",
       "      <td>1.030050</td>\n",
       "      <td>1.925919</td>\n",
       "    </tr>\n",
       "    <tr>\n",
       "      <th>4429</th>\n",
       "      <td>0.219002</td>\n",
       "      <td>-0.312128</td>\n",
       "      <td>1.602469</td>\n",
       "      <td>0.737102</td>\n",
       "      <td>0.198880</td>\n",
       "      <td>-0.924998</td>\n",
       "      <td>-0.994053</td>\n",
       "      <td>-0.534967</td>\n",
       "      <td>1.347416</td>\n",
       "      <td>-0.052817</td>\n",
       "      <td>2.184915</td>\n",
       "      <td>-1.214887</td>\n",
       "      <td>2.393388</td>\n",
       "    </tr>\n",
       "  </tbody>\n",
       "</table>\n",
       "<p>4430 rows × 13 columns</p>\n",
       "</div>"
      ],
      "text/plain": [
       "      duration_ms    energy       key      mode  time_signature  acousticness  \\\n",
       "0       -0.004930 -2.350385 -0.335195  0.737102        0.198880      2.167450   \n",
       "1        0.102190 -0.778424  1.325660  0.737102        0.198880      1.242899   \n",
       "2        0.059131  1.032147  1.048851 -1.356665        0.198880     -0.409698   \n",
       "3       -0.040894 -0.236513 -0.888814  0.737102        0.198880     -0.361376   \n",
       "4       -1.260341  0.893518 -0.335195 -1.356665        0.198880     -0.753425   \n",
       "...           ...       ...       ...       ...             ...           ...   \n",
       "4425    -0.436365 -0.190303  0.495233 -1.356665       -1.912661     -0.785317   \n",
       "4426    -1.068539 -0.707009  0.495233  0.737102        0.198880      1.813093   \n",
       "4427    -0.199429  0.427223 -1.442432  0.737102        0.198880     -0.764378   \n",
       "4428     1.048712  0.507039 -0.335195 -1.356665        0.198880      0.034860   \n",
       "4429     0.219002 -0.312128  1.602469  0.737102        0.198880     -0.924998   \n",
       "\n",
       "      danceability  instrumentalness  liveness  loudness  speechiness  \\\n",
       "0        -1.706196         -0.546589 -0.513620 -2.446999    -0.491581   \n",
       "1         1.401837          0.841095 -0.495375  0.234191    -0.501343   \n",
       "2         0.154208         -0.547197 -0.612754  0.913320    -0.519092   \n",
       "3         1.550890         -0.547204 -0.604239  0.296280     0.016030   \n",
       "4         1.837956          1.983190 -0.880962 -0.047920    -0.247537   \n",
       "...            ...               ...       ...       ...          ...   \n",
       "4425      0.971240         -0.547201 -0.551935  0.418708     0.016917   \n",
       "4426      0.750420         -0.547218 -0.428475  0.662516    -0.509330   \n",
       "4427     -0.022448         -0.547218 -0.843863  0.316393    -0.402838   \n",
       "4428      1.175498         -0.547204 -0.598765  0.923290     0.978007   \n",
       "4429     -0.994053         -0.534967  1.347416 -0.052817     2.184915   \n",
       "\n",
       "       valence     tempo  \n",
       "0    -1.524405  0.380110  \n",
       "1    -1.226074 -0.613712  \n",
       "2     0.101496 -0.514714  \n",
       "3     1.481275 -0.338817  \n",
       "4    -0.152084  0.175114  \n",
       "...        ...       ...  \n",
       "4425 -1.117930  1.139701  \n",
       "4426  0.951738  0.728164  \n",
       "4427 -1.319303  0.278367  \n",
       "4428  1.030050  1.925919  \n",
       "4429 -1.214887  2.393388  \n",
       "\n",
       "[4430 rows x 13 columns]"
      ]
     },
     "execution_count": 68,
     "metadata": {},
     "output_type": "execute_result"
    }
   ],
   "source": []
  },
  {
   "cell_type": "code",
   "execution_count": 70,
   "metadata": {},
   "outputs": [],
   "source": [
    "X_test_scaled = pd.DataFrame(scaler.transform(X_test[num_cols]), columns=num_cols)"
   ]
  },
  {
   "cell_type": "code",
   "execution_count": 72,
   "metadata": {},
   "outputs": [],
   "source": [
    "test_preds = rf_gs.predict(X_test)"
   ]
  },
  {
   "cell_type": "code",
   "execution_count": 75,
   "metadata": {},
   "outputs": [
    {
     "data": {
      "text/plain": [
       "0.49261178276722317"
      ]
     },
     "execution_count": 75,
     "metadata": {},
     "output_type": "execute_result"
    }
   ],
   "source": [
    "accuracy_score(y_test, test_preds)"
   ]
  },
  {
   "cell_type": "code",
   "execution_count": 76,
   "metadata": {},
   "outputs": [
    {
     "data": {
      "text/plain": [
       "duration_ms         0.152852\n",
       "energy              0.227209\n",
       "key                -0.003404\n",
       "mode                0.096454\n",
       "time_signature      0.117241\n",
       "acousticness       -0.214171\n",
       "danceability        0.097668\n",
       "instrumentalness   -0.463793\n",
       "liveness           -0.035693\n",
       "loudness            0.302076\n",
       "speechiness        -0.182983\n",
       "valence             0.275689\n",
       "tempo               0.041700\n",
       "On_chart            1.000000\n",
       "Name: On_chart, dtype: float64"
      ]
     },
     "execution_count": 76,
     "metadata": {},
     "output_type": "execute_result"
    }
   ],
   "source": [
    "df2.corr()['On_chart']"
   ]
  },
  {
   "cell_type": "code",
   "execution_count": 291,
   "metadata": {},
   "outputs": [
    {
     "data": {
      "text/plain": [
       "['track_title', 'artist_name', 'track_id']"
      ]
     },
     "execution_count": 291,
     "metadata": {},
     "output_type": "execute_result"
    }
   ],
   "source": [
    "cat_cols = list(a.select_dtypes('object').columns)\n",
    "cat_cols"
   ]
  },
  {
   "cell_type": "code",
   "execution_count": 311,
   "metadata": {},
   "outputs": [],
   "source": [
    "# Target\n",
    "y1 = a['On_chart']\n",
    "# Features\n",
    "X1 = a.drop(['On_chart','track_title', 'artist_name', 'track_id'], axis=1)"
   ]
  },
  {
   "cell_type": "code",
   "execution_count": 336,
   "metadata": {},
   "outputs": [],
   "source": [
    "# Initial Train-Test Split\n",
    "X_tr1, X_test1, y_tr1, y_test1 = train_test_split(X, y, test_size=.15, random_state=2021)"
   ]
  },
  {
   "cell_type": "code",
   "execution_count": 337,
   "metadata": {},
   "outputs": [],
   "source": [
    "# Instantiate StandardScaler\n",
    "scaler1 = StandardScaler()"
   ]
  },
  {
   "cell_type": "code",
   "execution_count": 338,
   "metadata": {},
   "outputs": [
    {
     "data": {
      "text/plain": [
       "StandardScaler()"
      ]
     },
     "execution_count": 338,
     "metadata": {},
     "output_type": "execute_result"
    }
   ],
   "source": [
    "scaler1.fit(X_train[num_cols])"
   ]
  },
  {
   "cell_type": "code",
   "execution_count": 345,
   "metadata": {},
   "outputs": [
    {
     "ename": "KeyError",
     "evalue": "\"None of [Index(['duration_ms_x', 'energy_x', 'key_x', 'mode_x', 'time_signature_x',\\n       'acousticness_x', 'danceability_x', 'instrumentalness_x', 'liveness_x',\\n       'loudness_x', 'speechiness_x', 'valence_x', 'tempo_x', 'duration_ms_y',\\n       'explicit', 'danceability_y', 'energy_y', 'key_y', 'loudness_y',\\n       'mode_y', 'speechiness_y', 'acousticness_y', 'instrumentalness_y',\\n       'liveness_y', 'valence_y', 'tempo_y', 'time_signature_y'],\\n      dtype='object')] are in the [columns]\"",
     "output_type": "error",
     "traceback": [
      "\u001b[0;31m---------------------------------------------------------------------------\u001b[0m",
      "\u001b[0;31mKeyError\u001b[0m                                  Traceback (most recent call last)",
      "\u001b[0;32m<ipython-input-345-e495b11cedda>\u001b[0m in \u001b[0;36m<module>\u001b[0;34m\u001b[0m\n\u001b[0;32m----> 1\u001b[0;31m \u001b[0mX_train_scaled1\u001b[0m \u001b[0;34m=\u001b[0m \u001b[0mpd\u001b[0m\u001b[0;34m.\u001b[0m\u001b[0mDataFrame\u001b[0m\u001b[0;34m(\u001b[0m\u001b[0mscaler\u001b[0m\u001b[0;34m.\u001b[0m\u001b[0mtransform\u001b[0m\u001b[0;34m(\u001b[0m\u001b[0mX_tr1\u001b[0m\u001b[0;34m[\u001b[0m\u001b[0mnum_cols\u001b[0m\u001b[0;34m]\u001b[0m\u001b[0;34m)\u001b[0m\u001b[0;34m,\u001b[0m \u001b[0mcolumns\u001b[0m\u001b[0;34m=\u001b[0m\u001b[0mnum_cols\u001b[0m\u001b[0;34m)\u001b[0m\u001b[0;34m\u001b[0m\u001b[0;34m\u001b[0m\u001b[0m\n\u001b[0m\u001b[1;32m      2\u001b[0m \u001b[0mX_val_scaled1\u001b[0m \u001b[0;34m=\u001b[0m \u001b[0mpd\u001b[0m\u001b[0;34m.\u001b[0m\u001b[0mDataFrame\u001b[0m\u001b[0;34m(\u001b[0m\u001b[0mscaler\u001b[0m\u001b[0;34m.\u001b[0m\u001b[0mtransform\u001b[0m\u001b[0;34m(\u001b[0m\u001b[0mX_test1\u001b[0m\u001b[0;34m[\u001b[0m\u001b[0mnum_cols\u001b[0m\u001b[0;34m]\u001b[0m\u001b[0;34m)\u001b[0m\u001b[0;34m,\u001b[0m \u001b[0mcolumns\u001b[0m\u001b[0;34m=\u001b[0m\u001b[0mnum_cols\u001b[0m\u001b[0;34m)\u001b[0m\u001b[0;34m\u001b[0m\u001b[0;34m\u001b[0m\u001b[0m\n",
      "\u001b[0;32m~/opt/anaconda3/envs/learn-env/lib/python3.8/site-packages/pandas/core/frame.py\u001b[0m in \u001b[0;36m__getitem__\u001b[0;34m(self, key)\u001b[0m\n\u001b[1;32m   2906\u001b[0m             \u001b[0;32mif\u001b[0m \u001b[0mis_iterator\u001b[0m\u001b[0;34m(\u001b[0m\u001b[0mkey\u001b[0m\u001b[0;34m)\u001b[0m\u001b[0;34m:\u001b[0m\u001b[0;34m\u001b[0m\u001b[0;34m\u001b[0m\u001b[0m\n\u001b[1;32m   2907\u001b[0m                 \u001b[0mkey\u001b[0m \u001b[0;34m=\u001b[0m \u001b[0mlist\u001b[0m\u001b[0;34m(\u001b[0m\u001b[0mkey\u001b[0m\u001b[0;34m)\u001b[0m\u001b[0;34m\u001b[0m\u001b[0;34m\u001b[0m\u001b[0m\n\u001b[0;32m-> 2908\u001b[0;31m             \u001b[0mindexer\u001b[0m \u001b[0;34m=\u001b[0m \u001b[0mself\u001b[0m\u001b[0;34m.\u001b[0m\u001b[0mloc\u001b[0m\u001b[0;34m.\u001b[0m\u001b[0m_get_listlike_indexer\u001b[0m\u001b[0;34m(\u001b[0m\u001b[0mkey\u001b[0m\u001b[0;34m,\u001b[0m \u001b[0maxis\u001b[0m\u001b[0;34m=\u001b[0m\u001b[0;36m1\u001b[0m\u001b[0;34m,\u001b[0m \u001b[0mraise_missing\u001b[0m\u001b[0;34m=\u001b[0m\u001b[0;32mTrue\u001b[0m\u001b[0;34m)\u001b[0m\u001b[0;34m[\u001b[0m\u001b[0;36m1\u001b[0m\u001b[0;34m]\u001b[0m\u001b[0;34m\u001b[0m\u001b[0;34m\u001b[0m\u001b[0m\n\u001b[0m\u001b[1;32m   2909\u001b[0m \u001b[0;34m\u001b[0m\u001b[0m\n\u001b[1;32m   2910\u001b[0m         \u001b[0;31m# take() does not accept boolean indexers\u001b[0m\u001b[0;34m\u001b[0m\u001b[0;34m\u001b[0m\u001b[0;34m\u001b[0m\u001b[0m\n",
      "\u001b[0;32m~/opt/anaconda3/envs/learn-env/lib/python3.8/site-packages/pandas/core/indexing.py\u001b[0m in \u001b[0;36m_get_listlike_indexer\u001b[0;34m(self, key, axis, raise_missing)\u001b[0m\n\u001b[1;32m   1252\u001b[0m             \u001b[0mkeyarr\u001b[0m\u001b[0;34m,\u001b[0m \u001b[0mindexer\u001b[0m\u001b[0;34m,\u001b[0m \u001b[0mnew_indexer\u001b[0m \u001b[0;34m=\u001b[0m \u001b[0max\u001b[0m\u001b[0;34m.\u001b[0m\u001b[0m_reindex_non_unique\u001b[0m\u001b[0;34m(\u001b[0m\u001b[0mkeyarr\u001b[0m\u001b[0;34m)\u001b[0m\u001b[0;34m\u001b[0m\u001b[0;34m\u001b[0m\u001b[0m\n\u001b[1;32m   1253\u001b[0m \u001b[0;34m\u001b[0m\u001b[0m\n\u001b[0;32m-> 1254\u001b[0;31m         \u001b[0mself\u001b[0m\u001b[0;34m.\u001b[0m\u001b[0m_validate_read_indexer\u001b[0m\u001b[0;34m(\u001b[0m\u001b[0mkeyarr\u001b[0m\u001b[0;34m,\u001b[0m \u001b[0mindexer\u001b[0m\u001b[0;34m,\u001b[0m \u001b[0maxis\u001b[0m\u001b[0;34m,\u001b[0m \u001b[0mraise_missing\u001b[0m\u001b[0;34m=\u001b[0m\u001b[0mraise_missing\u001b[0m\u001b[0;34m)\u001b[0m\u001b[0;34m\u001b[0m\u001b[0;34m\u001b[0m\u001b[0m\n\u001b[0m\u001b[1;32m   1255\u001b[0m         \u001b[0;32mreturn\u001b[0m \u001b[0mkeyarr\u001b[0m\u001b[0;34m,\u001b[0m \u001b[0mindexer\u001b[0m\u001b[0;34m\u001b[0m\u001b[0;34m\u001b[0m\u001b[0m\n\u001b[1;32m   1256\u001b[0m \u001b[0;34m\u001b[0m\u001b[0m\n",
      "\u001b[0;32m~/opt/anaconda3/envs/learn-env/lib/python3.8/site-packages/pandas/core/indexing.py\u001b[0m in \u001b[0;36m_validate_read_indexer\u001b[0;34m(self, key, indexer, axis, raise_missing)\u001b[0m\n\u001b[1;32m   1296\u001b[0m             \u001b[0;32mif\u001b[0m \u001b[0mmissing\u001b[0m \u001b[0;34m==\u001b[0m \u001b[0mlen\u001b[0m\u001b[0;34m(\u001b[0m\u001b[0mindexer\u001b[0m\u001b[0;34m)\u001b[0m\u001b[0;34m:\u001b[0m\u001b[0;34m\u001b[0m\u001b[0;34m\u001b[0m\u001b[0m\n\u001b[1;32m   1297\u001b[0m                 \u001b[0maxis_name\u001b[0m \u001b[0;34m=\u001b[0m \u001b[0mself\u001b[0m\u001b[0;34m.\u001b[0m\u001b[0mobj\u001b[0m\u001b[0;34m.\u001b[0m\u001b[0m_get_axis_name\u001b[0m\u001b[0;34m(\u001b[0m\u001b[0maxis\u001b[0m\u001b[0;34m)\u001b[0m\u001b[0;34m\u001b[0m\u001b[0;34m\u001b[0m\u001b[0m\n\u001b[0;32m-> 1298\u001b[0;31m                 \u001b[0;32mraise\u001b[0m \u001b[0mKeyError\u001b[0m\u001b[0;34m(\u001b[0m\u001b[0;34mf\"None of [{key}] are in the [{axis_name}]\"\u001b[0m\u001b[0;34m)\u001b[0m\u001b[0;34m\u001b[0m\u001b[0;34m\u001b[0m\u001b[0m\n\u001b[0m\u001b[1;32m   1299\u001b[0m \u001b[0;34m\u001b[0m\u001b[0m\n\u001b[1;32m   1300\u001b[0m             \u001b[0;31m# We (temporarily) allow for some missing keys with .loc, except in\u001b[0m\u001b[0;34m\u001b[0m\u001b[0;34m\u001b[0m\u001b[0;34m\u001b[0m\u001b[0m\n",
      "\u001b[0;31mKeyError\u001b[0m: \"None of [Index(['duration_ms_x', 'energy_x', 'key_x', 'mode_x', 'time_signature_x',\\n       'acousticness_x', 'danceability_x', 'instrumentalness_x', 'liveness_x',\\n       'loudness_x', 'speechiness_x', 'valence_x', 'tempo_x', 'duration_ms_y',\\n       'explicit', 'danceability_y', 'energy_y', 'key_y', 'loudness_y',\\n       'mode_y', 'speechiness_y', 'acousticness_y', 'instrumentalness_y',\\n       'liveness_y', 'valence_y', 'tempo_y', 'time_signature_y'],\\n      dtype='object')] are in the [columns]\""
     ]
    }
   ],
   "source": [
    "X_train_scaled1 = pd.DataFrame(scaler.transform(X_tr1[num_cols]), columns=num_cols)\n",
    "X_val_scaled1 = pd.DataFrame(scaler.transform(X_test1[num_cols]), columns=num_cols)"
   ]
  },
  {
   "cell_type": "code",
   "execution_count": 343,
   "metadata": {},
   "outputs": [
    {
     "ename": "KeyError",
     "evalue": "\"None of [Index(['duration_ms_x', 'energy_x', 'key_x', 'mode_x', 'time_signature_x',\\n       'acousticness_x', 'danceability_x', 'instrumentalness_x', 'liveness_x',\\n       'loudness_x', 'speechiness_x', 'valence_x', 'tempo_x', 'duration_ms_y',\\n       'explicit', 'danceability_y', 'energy_y', 'key_y', 'loudness_y',\\n       'mode_y', 'speechiness_y', 'acousticness_y', 'instrumentalness_y',\\n       'liveness_y', 'valence_y', 'tempo_y', 'time_signature_y'],\\n      dtype='object')] are in the [columns]\"",
     "output_type": "error",
     "traceback": [
      "\u001b[0;31m---------------------------------------------------------------------------\u001b[0m",
      "\u001b[0;31mKeyError\u001b[0m                                  Traceback (most recent call last)",
      "\u001b[0;32m<ipython-input-343-de67dd2e7bac>\u001b[0m in \u001b[0;36m<module>\u001b[0;34m\u001b[0m\n\u001b[0;32m----> 1\u001b[0;31m \u001b[0mX_test_scaled1\u001b[0m \u001b[0;34m=\u001b[0m \u001b[0mpd\u001b[0m\u001b[0;34m.\u001b[0m\u001b[0mDataFrame\u001b[0m\u001b[0;34m(\u001b[0m\u001b[0mscaler\u001b[0m\u001b[0;34m.\u001b[0m\u001b[0mtransform\u001b[0m\u001b[0;34m(\u001b[0m\u001b[0mX_test1\u001b[0m\u001b[0;34m[\u001b[0m\u001b[0mnum_cols\u001b[0m\u001b[0;34m]\u001b[0m\u001b[0;34m)\u001b[0m\u001b[0;34m,\u001b[0m \u001b[0mcolumns\u001b[0m\u001b[0;34m=\u001b[0m\u001b[0mnum_cols\u001b[0m\u001b[0;34m)\u001b[0m\u001b[0;34m\u001b[0m\u001b[0;34m\u001b[0m\u001b[0m\n\u001b[0m",
      "\u001b[0;32m~/opt/anaconda3/envs/learn-env/lib/python3.8/site-packages/pandas/core/frame.py\u001b[0m in \u001b[0;36m__getitem__\u001b[0;34m(self, key)\u001b[0m\n\u001b[1;32m   2906\u001b[0m             \u001b[0;32mif\u001b[0m \u001b[0mis_iterator\u001b[0m\u001b[0;34m(\u001b[0m\u001b[0mkey\u001b[0m\u001b[0;34m)\u001b[0m\u001b[0;34m:\u001b[0m\u001b[0;34m\u001b[0m\u001b[0;34m\u001b[0m\u001b[0m\n\u001b[1;32m   2907\u001b[0m                 \u001b[0mkey\u001b[0m \u001b[0;34m=\u001b[0m \u001b[0mlist\u001b[0m\u001b[0;34m(\u001b[0m\u001b[0mkey\u001b[0m\u001b[0;34m)\u001b[0m\u001b[0;34m\u001b[0m\u001b[0;34m\u001b[0m\u001b[0m\n\u001b[0;32m-> 2908\u001b[0;31m             \u001b[0mindexer\u001b[0m \u001b[0;34m=\u001b[0m \u001b[0mself\u001b[0m\u001b[0;34m.\u001b[0m\u001b[0mloc\u001b[0m\u001b[0;34m.\u001b[0m\u001b[0m_get_listlike_indexer\u001b[0m\u001b[0;34m(\u001b[0m\u001b[0mkey\u001b[0m\u001b[0;34m,\u001b[0m \u001b[0maxis\u001b[0m\u001b[0;34m=\u001b[0m\u001b[0;36m1\u001b[0m\u001b[0;34m,\u001b[0m \u001b[0mraise_missing\u001b[0m\u001b[0;34m=\u001b[0m\u001b[0;32mTrue\u001b[0m\u001b[0;34m)\u001b[0m\u001b[0;34m[\u001b[0m\u001b[0;36m1\u001b[0m\u001b[0;34m]\u001b[0m\u001b[0;34m\u001b[0m\u001b[0;34m\u001b[0m\u001b[0m\n\u001b[0m\u001b[1;32m   2909\u001b[0m \u001b[0;34m\u001b[0m\u001b[0m\n\u001b[1;32m   2910\u001b[0m         \u001b[0;31m# take() does not accept boolean indexers\u001b[0m\u001b[0;34m\u001b[0m\u001b[0;34m\u001b[0m\u001b[0;34m\u001b[0m\u001b[0m\n",
      "\u001b[0;32m~/opt/anaconda3/envs/learn-env/lib/python3.8/site-packages/pandas/core/indexing.py\u001b[0m in \u001b[0;36m_get_listlike_indexer\u001b[0;34m(self, key, axis, raise_missing)\u001b[0m\n\u001b[1;32m   1252\u001b[0m             \u001b[0mkeyarr\u001b[0m\u001b[0;34m,\u001b[0m \u001b[0mindexer\u001b[0m\u001b[0;34m,\u001b[0m \u001b[0mnew_indexer\u001b[0m \u001b[0;34m=\u001b[0m \u001b[0max\u001b[0m\u001b[0;34m.\u001b[0m\u001b[0m_reindex_non_unique\u001b[0m\u001b[0;34m(\u001b[0m\u001b[0mkeyarr\u001b[0m\u001b[0;34m)\u001b[0m\u001b[0;34m\u001b[0m\u001b[0;34m\u001b[0m\u001b[0m\n\u001b[1;32m   1253\u001b[0m \u001b[0;34m\u001b[0m\u001b[0m\n\u001b[0;32m-> 1254\u001b[0;31m         \u001b[0mself\u001b[0m\u001b[0;34m.\u001b[0m\u001b[0m_validate_read_indexer\u001b[0m\u001b[0;34m(\u001b[0m\u001b[0mkeyarr\u001b[0m\u001b[0;34m,\u001b[0m \u001b[0mindexer\u001b[0m\u001b[0;34m,\u001b[0m \u001b[0maxis\u001b[0m\u001b[0;34m,\u001b[0m \u001b[0mraise_missing\u001b[0m\u001b[0;34m=\u001b[0m\u001b[0mraise_missing\u001b[0m\u001b[0;34m)\u001b[0m\u001b[0;34m\u001b[0m\u001b[0;34m\u001b[0m\u001b[0m\n\u001b[0m\u001b[1;32m   1255\u001b[0m         \u001b[0;32mreturn\u001b[0m \u001b[0mkeyarr\u001b[0m\u001b[0;34m,\u001b[0m \u001b[0mindexer\u001b[0m\u001b[0;34m\u001b[0m\u001b[0;34m\u001b[0m\u001b[0m\n\u001b[1;32m   1256\u001b[0m \u001b[0;34m\u001b[0m\u001b[0m\n",
      "\u001b[0;32m~/opt/anaconda3/envs/learn-env/lib/python3.8/site-packages/pandas/core/indexing.py\u001b[0m in \u001b[0;36m_validate_read_indexer\u001b[0;34m(self, key, indexer, axis, raise_missing)\u001b[0m\n\u001b[1;32m   1296\u001b[0m             \u001b[0;32mif\u001b[0m \u001b[0mmissing\u001b[0m \u001b[0;34m==\u001b[0m \u001b[0mlen\u001b[0m\u001b[0;34m(\u001b[0m\u001b[0mindexer\u001b[0m\u001b[0;34m)\u001b[0m\u001b[0;34m:\u001b[0m\u001b[0;34m\u001b[0m\u001b[0;34m\u001b[0m\u001b[0m\n\u001b[1;32m   1297\u001b[0m                 \u001b[0maxis_name\u001b[0m \u001b[0;34m=\u001b[0m \u001b[0mself\u001b[0m\u001b[0;34m.\u001b[0m\u001b[0mobj\u001b[0m\u001b[0;34m.\u001b[0m\u001b[0m_get_axis_name\u001b[0m\u001b[0;34m(\u001b[0m\u001b[0maxis\u001b[0m\u001b[0;34m)\u001b[0m\u001b[0;34m\u001b[0m\u001b[0;34m\u001b[0m\u001b[0m\n\u001b[0;32m-> 1298\u001b[0;31m                 \u001b[0;32mraise\u001b[0m \u001b[0mKeyError\u001b[0m\u001b[0;34m(\u001b[0m\u001b[0;34mf\"None of [{key}] are in the [{axis_name}]\"\u001b[0m\u001b[0;34m)\u001b[0m\u001b[0;34m\u001b[0m\u001b[0;34m\u001b[0m\u001b[0m\n\u001b[0m\u001b[1;32m   1299\u001b[0m \u001b[0;34m\u001b[0m\u001b[0m\n\u001b[1;32m   1300\u001b[0m             \u001b[0;31m# We (temporarily) allow for some missing keys with .loc, except in\u001b[0m\u001b[0;34m\u001b[0m\u001b[0;34m\u001b[0m\u001b[0;34m\u001b[0m\u001b[0m\n",
      "\u001b[0;31mKeyError\u001b[0m: \"None of [Index(['duration_ms_x', 'energy_x', 'key_x', 'mode_x', 'time_signature_x',\\n       'acousticness_x', 'danceability_x', 'instrumentalness_x', 'liveness_x',\\n       'loudness_x', 'speechiness_x', 'valence_x', 'tempo_x', 'duration_ms_y',\\n       'explicit', 'danceability_y', 'energy_y', 'key_y', 'loudness_y',\\n       'mode_y', 'speechiness_y', 'acousticness_y', 'instrumentalness_y',\\n       'liveness_y', 'valence_y', 'tempo_y', 'time_signature_y'],\\n      dtype='object')] are in the [columns]\""
     ]
    }
   ],
   "source": [
    "X_test_scaled1 = pd.DataFrame(scaler.transform(X_test1[num_cols]), columns=num_cols)"
   ]
  },
  {
   "cell_type": "code",
   "execution_count": 316,
   "metadata": {},
   "outputs": [],
   "source": [
    "# Instantiate LogisticRegression\n",
    "logreg3 = LogisticRegression(solver='liblinear')"
   ]
  },
  {
   "cell_type": "code",
   "execution_count": 317,
   "metadata": {},
   "outputs": [
    {
     "data": {
      "text/plain": [
       "LogisticRegression(solver='liblinear')"
      ]
     },
     "execution_count": 317,
     "metadata": {},
     "output_type": "execute_result"
    }
   ],
   "source": [
    "logreg3.fit(X_train_scaled1, y_train_res)"
   ]
  },
  {
   "cell_type": "code",
   "execution_count": 325,
   "metadata": {},
   "outputs": [
    {
     "name": "stdout",
     "output_type": "stream",
     "text": [
      "Training accuracy:  0.9998676022772408\n",
      "Validation accuracy:  1.0\n"
     ]
    }
   ],
   "source": [
    "def modeling_function(model, X_train, y_train, X_val_scaled, y_val):\n",
    "    model.fit(X_train, y_train)\n",
    "    train_preds = model.predict(X_train)\n",
    "    val_preds = model.predict(X_val)\n",
    "    print('Training accuracy: ', accuracy_score(y_train, train_preds))\n",
    "    print('Validation accuracy: ', accuracy_score(y_val, val_preds))\n",
    "    return model\n",
    "logreg3 = modeling_function(logreg, X_train_scaled, y_train, X_val_scaled, y_val)"
   ]
  },
  {
   "cell_type": "code",
   "execution_count": 342,
   "metadata": {},
   "outputs": [
    {
     "ename": "ValueError",
     "evalue": "X has 13 features per sample; expecting 27",
     "output_type": "error",
     "traceback": [
      "\u001b[0;31m---------------------------------------------------------------------------\u001b[0m",
      "\u001b[0;31mValueError\u001b[0m                                Traceback (most recent call last)",
      "\u001b[0;32m<ipython-input-342-cd8a3b301f11>\u001b[0m in \u001b[0;36m<module>\u001b[0;34m\u001b[0m\n\u001b[0;32m----> 1\u001b[0;31m \u001b[0mtest_preds\u001b[0m \u001b[0;34m=\u001b[0m \u001b[0mlogreg3\u001b[0m\u001b[0;34m.\u001b[0m\u001b[0mpredict\u001b[0m\u001b[0;34m(\u001b[0m\u001b[0mX_test\u001b[0m\u001b[0;34m)\u001b[0m\u001b[0;34m\u001b[0m\u001b[0;34m\u001b[0m\u001b[0m\n\u001b[0m",
      "\u001b[0;32m~/opt/anaconda3/envs/learn-env/lib/python3.8/site-packages/sklearn/linear_model/_base.py\u001b[0m in \u001b[0;36mpredict\u001b[0;34m(self, X)\u001b[0m\n\u001b[1;32m    305\u001b[0m             \u001b[0mPredicted\u001b[0m \u001b[0;32mclass\u001b[0m \u001b[0mlabel\u001b[0m \u001b[0mper\u001b[0m \u001b[0msample\u001b[0m\u001b[0;34m.\u001b[0m\u001b[0;34m\u001b[0m\u001b[0;34m\u001b[0m\u001b[0m\n\u001b[1;32m    306\u001b[0m         \"\"\"\n\u001b[0;32m--> 307\u001b[0;31m         \u001b[0mscores\u001b[0m \u001b[0;34m=\u001b[0m \u001b[0mself\u001b[0m\u001b[0;34m.\u001b[0m\u001b[0mdecision_function\u001b[0m\u001b[0;34m(\u001b[0m\u001b[0mX\u001b[0m\u001b[0;34m)\u001b[0m\u001b[0;34m\u001b[0m\u001b[0;34m\u001b[0m\u001b[0m\n\u001b[0m\u001b[1;32m    308\u001b[0m         \u001b[0;32mif\u001b[0m \u001b[0mlen\u001b[0m\u001b[0;34m(\u001b[0m\u001b[0mscores\u001b[0m\u001b[0;34m.\u001b[0m\u001b[0mshape\u001b[0m\u001b[0;34m)\u001b[0m \u001b[0;34m==\u001b[0m \u001b[0;36m1\u001b[0m\u001b[0;34m:\u001b[0m\u001b[0;34m\u001b[0m\u001b[0;34m\u001b[0m\u001b[0m\n\u001b[1;32m    309\u001b[0m             \u001b[0mindices\u001b[0m \u001b[0;34m=\u001b[0m \u001b[0;34m(\u001b[0m\u001b[0mscores\u001b[0m \u001b[0;34m>\u001b[0m \u001b[0;36m0\u001b[0m\u001b[0;34m)\u001b[0m\u001b[0;34m.\u001b[0m\u001b[0mastype\u001b[0m\u001b[0;34m(\u001b[0m\u001b[0mnp\u001b[0m\u001b[0;34m.\u001b[0m\u001b[0mint\u001b[0m\u001b[0;34m)\u001b[0m\u001b[0;34m\u001b[0m\u001b[0;34m\u001b[0m\u001b[0m\n",
      "\u001b[0;32m~/opt/anaconda3/envs/learn-env/lib/python3.8/site-packages/sklearn/linear_model/_base.py\u001b[0m in \u001b[0;36mdecision_function\u001b[0;34m(self, X)\u001b[0m\n\u001b[1;32m    284\u001b[0m         \u001b[0mn_features\u001b[0m \u001b[0;34m=\u001b[0m \u001b[0mself\u001b[0m\u001b[0;34m.\u001b[0m\u001b[0mcoef_\u001b[0m\u001b[0;34m.\u001b[0m\u001b[0mshape\u001b[0m\u001b[0;34m[\u001b[0m\u001b[0;36m1\u001b[0m\u001b[0;34m]\u001b[0m\u001b[0;34m\u001b[0m\u001b[0;34m\u001b[0m\u001b[0m\n\u001b[1;32m    285\u001b[0m         \u001b[0;32mif\u001b[0m \u001b[0mX\u001b[0m\u001b[0;34m.\u001b[0m\u001b[0mshape\u001b[0m\u001b[0;34m[\u001b[0m\u001b[0;36m1\u001b[0m\u001b[0;34m]\u001b[0m \u001b[0;34m!=\u001b[0m \u001b[0mn_features\u001b[0m\u001b[0;34m:\u001b[0m\u001b[0;34m\u001b[0m\u001b[0;34m\u001b[0m\u001b[0m\n\u001b[0;32m--> 286\u001b[0;31m             raise ValueError(\"X has %d features per sample; expecting %d\"\n\u001b[0m\u001b[1;32m    287\u001b[0m                              % (X.shape[1], n_features))\n\u001b[1;32m    288\u001b[0m \u001b[0;34m\u001b[0m\u001b[0m\n",
      "\u001b[0;31mValueError\u001b[0m: X has 13 features per sample; expecting 27"
     ]
    }
   ],
   "source": [
    "test_preds = logreg3.predict(X_test)"
   ]
  },
  {
   "cell_type": "code",
   "execution_count": 327,
   "metadata": {},
   "outputs": [
    {
     "data": {
      "text/plain": [
       "0.5079639224716945"
      ]
     },
     "execution_count": 327,
     "metadata": {},
     "output_type": "execute_result"
    }
   ],
   "source": [
    "accuracy_score(y_test, test_preds)"
   ]
  },
  {
   "cell_type": "code",
   "execution_count": null,
   "metadata": {},
   "outputs": [],
   "source": []
  }
 ],
 "metadata": {
  "kernelspec": {
   "display_name": "learn-env",
   "language": "python",
   "name": "learn-env"
  },
  "language_info": {
   "codemirror_mode": {
    "name": "ipython",
    "version": 3
   },
   "file_extension": ".py",
   "mimetype": "text/x-python",
   "name": "python",
   "nbconvert_exporter": "python",
   "pygments_lexer": "ipython3",
   "version": "3.8.5"
  }
 },
 "nbformat": 4,
 "nbformat_minor": 4
}
